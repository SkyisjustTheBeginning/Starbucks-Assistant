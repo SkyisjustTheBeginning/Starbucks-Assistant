{
  "nbformat": 4,
  "nbformat_minor": 0,
  "metadata": {
    "colab": {
      "provenance": []
    },
    "kernelspec": {
      "name": "python3",
      "display_name": "Python 3"
    },
    "language_info": {
      "name": "python"
    }
  },
  "cells": [
    {
      "cell_type": "code",
      "execution_count": 3,
      "metadata": {
        "id": "SeNidk9JUp40"
      },
      "outputs": [],
      "source": [
        "import pandas as pd\n",
        "import numpy as np"
      ]
    },
    {
      "cell_type": "code",
      "source": [
        "starbucks_df = pd.read_csv('')"
      ],
      "metadata": {
        "id": "Vi2M7v1aUvR8"
      },
      "execution_count": 5,
      "outputs": []
    },
    {
      "cell_type": "code",
      "source": [
        "print('Welcome')\n",
        "calorie_level = int(input('Would you like a high or low calorie snack ?  '))\n",
        "fat_level = int(input('Would you like a high or low fat snack ?  '))\n",
        "carb_level = int(input('Would you like a high or low carb snack ?  '))\n",
        "fiber_level = int(input('Would you like a high or low fiber snack ?  '))"
      ],
      "metadata": {
        "colab": {
          "base_uri": "https://localhost:8080/"
        },
        "id": "r1w3qJ32WOsZ",
        "outputId": "81fac3c0-2195-4347-a254-c7946a328fe2"
      },
      "execution_count": 45,
      "outputs": [
        {
          "name": "stdout",
          "output_type": "stream",
          "text": [
            "Welcome\n",
            "Would you like a high or low calorie snack ?  0\n",
            "Would you like a high or low fat snack ?  0\n",
            "Would you like a high or low carb snack ?  0\n",
            "Would you like a high or low fiber snack ?  0\n"
          ]
        }
      ]
    },
    {
      "cell_type": "code",
      "source": [
        "cal_indexes = []\n",
        "shortlisted = []\n",
        "shortlisted_two = []\n",
        "shortlisted_three = []\n",
        "final_indexes = []\n",
        "calories = list(starbucks_df['calories'])\n",
        "fats = list(starbucks_df['fat'])\n",
        "carb = list(starbucks_df['carb'])\n",
        "fiber = list(starbucks_df['fiber'])\n",
        "snacks = list(starbucks_df['item'])\n",
        "for calorie_snack in calories:\n",
        "  if calorie_level == 0:\n",
        "    if calorie_snack <= 250:\n",
        "      cal_indexes.append(calories.index(calorie_snack))\n",
        "  else:\n",
        "    if calorie_snack > 250:\n",
        "      cal_indexes.append(calories.index(calorie_snack))\n",
        "for index in cal_indexes:\n",
        "  if fat_level == 0:\n",
        "    if fats[index] <= 30:\n",
        "      shortlisted.append(index)\n",
        "  else:\n",
        "    if fats[index] > 30:\n",
        "      shortlisted.append(index)\n",
        "for index in shortlisted:\n",
        "  if carb_level == 0:\n",
        "    if carb[index] <= 45:\n",
        "      shortlisted_two.append(index)\n",
        "  else:\n",
        "    if carb[index] > 45:\n",
        "      shortlisted_two.append(index)\n",
        "for index in shortlisted_two:\n",
        "  if fiber_level == 0:\n",
        "    if fiber[index] <= 15:\n",
        "      final_indexes.append(index)\n",
        "  else:\n",
        "    if fiber[index] > 15:\n",
        "      final_indexes.append(index)"
      ],
      "metadata": {
        "id": "SBO8ZpBPZw6z"
      },
      "execution_count": 46,
      "outputs": []
    },
    {
      "cell_type": "code",
      "source": [
        "if len(final_indexes) == 0:\n",
        "  print('No snacks fit your criteria.Perhaps try again.')\n",
        "else:\n",
        "  for index in set(final_indexes):\n",
        "    print(snacks[index])"
      ],
      "metadata": {
        "colab": {
          "base_uri": "https://localhost:8080/"
        },
        "id": "J5SeS5OlgDWm",
        "outputId": "f45a35b0-bf5b-435a-c2a5-e64cff543ca8"
      },
      "execution_count": 47,
      "outputs": [
        {
          "output_type": "stream",
          "name": "stdout",
          "text": [
            "Deluxe Fruit Blend\n",
            "Birthday Cake Mini Doughnut\n",
            "Apple Pie\n",
            "Birthday Cake Pop\n",
            "Brown Sugar Walnut Tart\n",
            "Raspberry Truffle Cake Pop\n",
            "Marshmallow Dream Bar\n",
            "Petite Vanilla Bean Scone\n"
          ]
        }
      ]
    }
  ]
}